{
 "cells": [
  {
   "cell_type": "code",
   "execution_count": 3,
   "metadata": {},
   "outputs": [],
   "source": [
    "import numpy as np\n",
    "import scipy as sp      \n",
    "from scipy import stats\n",
    "import matplotlib.pyplot as plt\n",
    "%matplotlib inline"
   ]
  },
  {
   "cell_type": "code",
   "execution_count": null,
   "metadata": {},
   "outputs": [],
   "source": [
    "class Planet:\n",
    "    def __init__(self, name, ):\n",
    "        self.name = name\n",
    "\n"
   ]
  },
  {
   "cell_type": "markdown",
   "metadata": {},
   "source": [
    "# Attributes of Sun and Planets\n",
    "\n",
    "|               | Sun       | Mercury   | Venus     | Earth     | Mars      | Jupiter   | Saturn    | Uranus    | Neptune   |\n",
    "| -----------   | --------- | --------- | --------- | --------- | --------- | --------- | --------- | --------- | --------- |\n",
    "| Radius (km)   | 696342    | 2439.7    | 6051.8    | 6371.0    | 3389.5    |           |           |           |           |\n",
    "| Mass (kg)     | 1.9885e30 | 3.3011e23 | 4.8675e24 | 1.08321e12| 6.4171e23 |           |           |           |           |\n",
    "| Volumn (km^3) | 1.41e18   | 6.083e10  | 9.2843e11 | 5.97237e24| 1.63118e11|           |           |           |           |"
   ]
  },
  {
   "cell_type": "code",
   "execution_count": null,
   "metadata": {},
   "outputs": [],
   "source": []
  }
 ],
 "metadata": {
  "kernelspec": {
   "display_name": "Python 3.9.12 ('base')",
   "language": "python",
   "name": "python3"
  },
  "language_info": {
   "codemirror_mode": {
    "name": "ipython",
    "version": 3
   },
   "file_extension": ".py",
   "mimetype": "text/x-python",
   "name": "python",
   "nbconvert_exporter": "python",
   "pygments_lexer": "ipython3",
   "version": "3.9.12"
  },
  "orig_nbformat": 4,
  "vscode": {
   "interpreter": {
    "hash": "0968fb2a39367d6a567440c767d450fb15d679bd06d810638ee040ba26f41bab"
   }
  }
 },
 "nbformat": 4,
 "nbformat_minor": 2
}
