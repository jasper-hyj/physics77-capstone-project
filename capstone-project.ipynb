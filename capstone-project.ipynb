{
 "cells": [
  {
   "cell_type": "markdown",
   "metadata": {},
   "source": [
    "# Physics 77 Capstone Project\n",
    "\n",
    "## Overview\n",
    "- Title of the Research: Simulation of a solar system with animation using pygame and analyse using matplotlib\n",
    "- Group member: Yi-Jhan Huang, Ian Chang\n",
    "\n",
    "## Abstract:\n",
    "Our research project is based on the current physical detail of solar system.\n",
    "\n",
    "## Technical Approach \n",
    "- Language of programming: mainly python\n",
    "- Package requirements: matplotlib, numpy, scipy, pygame, math\n",
    "\n",
    "## References\n",
    "- https://towardsdatascience.com/simulate-a-tiny-solar-system-with-python-fbbb68d8207b \n",
    "- https://thepythoncodingbook.com/2021/12/11/simulating-3d-solar-system-python-matplotlib/ \n",
    "\n",
    "## Division of Responsibilities\n",
    "- Ian Chang: Responsible for simulation part of the project\n",
    "- Yi-Jhan Huang: Responsible for analysis part of the project\n",
    "- Both: Topic Chose and Structure Design\n",
    "\n",
    "\n",
    "# Project Proposal\n",
    "\n",
    "We chose this project generally because recently, as you might’ve known, the James Webb Space telescope sent back marvelous high-resolution images of galaxies, nebulas, black holes, and more. These new images will allow us to have a greater understanding of the history of our universe, recording information about collisions of galaxies and births of stars. Being inspired by this phenomenal event, we’ve decided to use what we’ve learnt in the course and try to simulate a solar system, mainly using the libraries matplotlib and numpy.\n",
    "\n",
    "# Attributes of Sun and Planets\n",
    "\n",
    "|               | Sun       | Mercury   | Venus     | Earth     | Mars      | Jupiter   | Saturn    | Uranus    | Neptune   |\n",
    "| -----------   | --------- | --------- | --------- | --------- | --------- | --------- | --------- | --------- | --------- |\n",
    "| Radius (km)   | 696342    | 2439.7    | 6051.8    | 6371.0    | 3389.5    |           |           |           |           |\n",
    "| Mass (kg)     | 1.9885e30 | 3.3011e23 | 4.8675e24 | 1.08321e12| 6.4171e23 |           |           |           |           |\n",
    "| Volumn (km^3) | 1.41e18   | 6.083e10  | 9.2843e11 | 5.97237e24| 1.63118e11|           |           |           |           |\n",
    "\t"
   ]
  },
  {
   "cell_type": "markdown",
   "metadata": {},
   "source": [
    "### Importing Necessary Package for following codes"
   ]
  },
  {
   "cell_type": "code",
   "execution_count": 1,
   "metadata": {},
   "outputs": [
    {
     "name": "stdout",
     "output_type": "stream",
     "text": [
      "pygame 2.1.2 (SDL 2.0.18, Python 3.9.12)\n",
      "Hello from the pygame community. https://www.pygame.org/contribute.html\n"
     ]
    }
   ],
   "source": [
    "import numpy as np\n",
    "import scipy as sp \n",
    "from scipy import stats\n",
    "import matplotlib.pyplot as plt\n",
    "%matplotlib inline\n",
    "import pygame\n",
    "import math"
   ]
  },
  {
   "cell_type": "markdown",
   "metadata": {},
   "source": [
    "## Class Planet\n",
    "> Functions\n",
    "> - Constructor\n",
    ">> Define some default parameters\n",
    "> - Draw\n",
    "> - "
   ]
  },
  {
   "cell_type": "code",
   "execution_count": 2,
   "metadata": {},
   "outputs": [],
   "source": [
    "class Planet:\n",
    "    AU = 149.6e6 * 1000             # distance from earth to sun\n",
    "    G = 6.67428e-11                 # gravitational constant\n",
    "    SCALE = 200 / AU                # small value to scale down the solar system to fit it on the screen\n",
    "    TIMESTEP = 60 * 60 * 24         # 1 day\n",
    "\n",
    "\n",
    "    # Constructor\n",
    "    def __init__(self, name, x, y, radius, color, mass):\n",
    "        self.name = name\n",
    "        self.x = x                              # x position\n",
    "        self.y = y                              # y position\n",
    "        self.radius = radius                    # radius\n",
    "        self.color = color                      # color\n",
    "        self.mass = mass                        # mass\n",
    "        self.sun = (self.name=='Sun')           # if it's the sun\n",
    "        self.dis_to_sun = math.hypot(x, y)      # distance from planet to sun\n",
    "        \n",
    "        self.orbit = []\n",
    "        self.x_speed = 0 # x speed\n",
    "        self.y_speed = 0 if (self.sun) else math.sqrt((Planet.G * 1.98892 * 10 ** 30) / self.dis_to_sun)     # y speed\n",
    "\n",
    "\n",
    "    # Draw line function for the updated_points\n",
    "    def move(self):\n",
    "        # divide by two because pygame (0, 0) is the top left corner\n",
    "        x = self.x * self.SCALE + WIDTH / 2     # x position on screen\n",
    "        y = self.y * self.SCALE + HEIGHT / 2    # y position on screen\n",
    "        updated_points = []\n",
    "        updated_points = []\n",
    "        for point in self.orbit:\n",
    "            x, y = point\n",
    "            x = x * self.SCALE + WIDTH / 2\n",
    "            y = y * self.SCALE + HEIGHT / 2\n",
    "            updated_points.append((x, y))\n",
    "        return updated_points, (x, y)\n",
    "\n",
    "\n",
    "    def attraction(self, other):\n",
    "        distance_x = other.x - self.x # distance between x positions\n",
    "        distance_y = other.y - self.y # distance between y positions\n",
    "\n",
    "        distance = math.hypot(distance_x, distance_y) # distance between planets\n",
    "\n",
    "        force = self.G * self.mass * other.mass / distance ** 2 # force between the planets\n",
    "\n",
    "        theta = math.atan2(distance_y, distance_x) # angle between the planets x and y positions\n",
    "\n",
    "        force_x = math.cos(theta) * force # force in the x direction\n",
    "        force_y = math.sin(theta) * force # force in the y direction\n",
    "        \n",
    "        return force_x, force_y\n",
    "\n",
    "\n",
    "    def update_pos(self, planets):\n",
    "        total_fx = total_fy = 0 # initialize x and y force to zero\n",
    "\n",
    "        for planet in planets:\n",
    "            if self == planet: # if the planet is itself\n",
    "                continue\n",
    "            fx, fy = self.attraction(planet)\n",
    "            total_fx += fx\n",
    "            total_fy += fy\n",
    "        \n",
    "        self.x_speed += total_fx / self.mass * self.TIMESTEP\n",
    "        self.y_speed += total_fy / self.mass * self.TIMESTEP\n",
    "\n",
    "        self.x += self.x_speed * self.TIMESTEP\n",
    "        self.y += self.y_speed * self.TIMESTEP\n",
    "\n",
    "        self.orbit.append((self.x, self.y))\n",
    "\n",
    "\n",
    "    def __str__(self):\n",
    "        return f\"\"\"Planet(name={self.name}, x={self.x}, y={self.y}, radius={self.radius}, color={self.color}, mass={self.mass}, sun={self.sun}, \n",
    "        dis_to_sun={self.dis_to_sun}, orbit_list={self.orbit[0:10]}, x_speed={self.x_speed}, y_speed={self.y_speed})\n",
    "        \"\"\""
   ]
  },
  {
   "cell_type": "markdown",
   "metadata": {},
   "source": [
    "### Set up color constants"
   ]
  },
  {
   "cell_type": "code",
   "execution_count": 3,
   "metadata": {},
   "outputs": [],
   "source": [
    "WHITE = (255, 255, 255) # color white\n",
    "YELLOW = (255, 255, 0) # color yellow\n",
    "BLUE = (0, 0, 255) # color blue\n",
    "RED = (255, 0, 0) # color red\n",
    "GREY = (100, 100, 100) # color grey"
   ]
  },
  {
   "cell_type": "markdown",
   "metadata": {},
   "source": [
    "### Running pygame for visual simulation of solar system"
   ]
  },
  {
   "cell_type": "code",
   "execution_count": 5,
   "metadata": {},
   "outputs": [],
   "source": [
    "pygame.init()\n",
    "WIDTH, HEIGHT = 1600, 1600\n",
    "\n",
    "# set pop up screen size\n",
    "SCREEN = pygame.display.set_mode((WIDTH, HEIGHT)) \n",
    "\n",
    "FONT = pygame.font.SysFont(\"garamond\", 16)\n",
    "\n",
    "# set title of window\n",
    "pygame.display.set_caption(\"Solar System\")\n",
    "\n",
    "run = True\n",
    "clock = pygame.time.Clock()\n",
    "planets = [\n",
    "    Planet('Sun',                        0, 0, 30, YELLOW,  1.98892 * 10 ** 30),\n",
    "    Planet('Mercury',   -0.387 * Planet.AU, 0,  8, GREY,    0.330 * 10 ** 24),\n",
    "    Planet('Venus',     -0.723 * Planet.AU, 0, 14, WHITE,   4.8685 * 10 ** 24),\n",
    "    Planet('Earth',     -1 * Planet.AU,     0, 16, BLUE,    5.972 * 10 ** 24),\n",
    "    Planet('Mars',      -1.524 * Planet.AU, 0, 12, RED,     6.39 * 10 ** 23), \n",
    "    Planet('Jupiter', -5.2 * Planet.AU, 0, 176, (188, 175, 178), 1.898 * 10 ** 27)\n",
    "]\n",
    "\n",
    "while run:\n",
    "    SCREEN.fill((0, 0, 0)) # fill the screen black every frame, or else the old frames will still be on the screen\n",
    "\n",
    "    # Quit loop when recieve quit signal\n",
    "    for event in pygame.event.get():\n",
    "        if event.type == pygame.QUIT:\n",
    "            run = False\n",
    "\n",
    "    for planet in planets:\n",
    "        planet.update_pos(planets) # update the position of the planets using the forces of attraction\n",
    "        updated_points, (x, y) = planet.move() # draw the planets\n",
    "\n",
    "        if len(updated_points) >= 2: pygame.draw.lines(SCREEN, planet.color, False, updated_points)\n",
    "\n",
    "        if not planet.sun:\n",
    "            distance_text = FONT.render(f\"{planet.name}\", True, WHITE)\n",
    "            SCREEN.blit(distance_text, (x - distance_text.get_width() / 2, y - distance_text.get_height() / 2 - 20))\n",
    "\n",
    "        pygame.draw.circle(SCREEN, planet.color, (x, y), planet.radius) # draw the planet\n",
    "\n",
    "    pygame.display.update() # update the display\n",
    "\n",
    "    clock.tick(60) # Set up update delay\n",
    "\n",
    "pygame.quit()\n",
    "\n"
   ]
  },
  {
   "cell_type": "code",
   "execution_count": 31,
   "metadata": {},
   "outputs": [
    {
     "name": "stdout",
     "output_type": "stream",
     "text": [
      "Planet(name=Sun, x=-532961.3417164525, y=12067672.93709123, radius=30, color=(255, 255, 0), mass=1.9889200000000002e+30, sun=True, \n",
      "        dis_to_sun=0.0, orbit_list=[(-395.46942426354053, 4.843103645849915e-14), (-1186.6330239537288, 11.685654084580875), (-2373.254576824716, 46.78863795968859), (-3954.6290135274585, 117.0620652977588), (-5929.576161441081, 234.25461154743076), (-8296.436316368416, 410.08345758531414), (-11053.06784728475, 656.2062002955756), (-14196.84702827482, 984.1919127431806), (-17724.670274365293, 1405.4915720127012), (-21632.958933881302, 1931.4081068145742)], x_speed=-0.10176475590679196, y_speed=0.17132276182708708)\n",
      "        \n",
      "Planet(name=Mercury, x=48366360484.3304, y=-34417645647.37895, radius=8, color=(100, 100, 100), mass=3.3e+23, sun=False, \n",
      "        dis_to_sun=57895200000.0, orbit_list=[(-57599560700.35345, 4137169666.4649696), (-57007536003.545845, 8253050912.057345), (-56119934364.51558, 12326140880.266018), (-54939161637.028015, 16334838612.165207), (-53469255026.00523, 20257568872.949585), (-51715906895.883026, 24072912817.572777), (-49686477215.50628, 27759744633.220142), (-47389993486.07359, 31297373083.00803), (-44837137103.015045, 34665686662.97571), (-42040215247.08696, 37845300880.36499)], x_speed=-24707.998731285046, y_speed=-39728.5364623351)\n",
      "        \n",
      "Planet(name=Venus, x=76957067149.07468, y=74569540456.9181, radius=14, color=(255, 255, 255), mass=4.8685e+24, sun=False, \n",
      "        dis_to_sun=108160800000.0, orbit_list=[(-108076096613.81282, 3026841406.6457696), (-107906656731.28897, 6051309574.138175), (-107652513876.02037, 9071027549.041632), (-107313768491.50269, 12083616547.297806), (-106890588174.23994, 15086697851.711542), (-106383207852.61812, 18077894726.97671), (-105791929910.40895, 21054834350.673813), (-105117124253.80371, 24015149758.602055), (-104359228320.91983, 26956481802.74157), (-103518747032.7723, 29876481120.0762)], x_speed=25221.58034842209, y_speed=-24801.402171791768)\n",
      "        \n",
      "Planet(name=Earth, x=-133780717492.72934, y=65688739671.60352, radius=16, color=(0, 0, 255), mass=5.972e+24, sun=False, \n",
      "        dis_to_sun=149600000000.0, orbit_list=[(-149555720836.4682, 2573705387.3283033), (-149467155971.98764, 5146648801.383675), (-149334311998.49002, 7718067714.478085), (-149157208658.4194, 10287199373.32672), (-148935878861.96133, 12853281026.159988), (-148670368700.31238, 15415550150.67034), (-148360737454.96588, 17973244682.726505), (-148007057602.9909, 20525603245.785236), (-147609414818.28146, 23071865380.92828), (-147167907968.75354, 25611271777.45037)], x_speed=13150.285309777692, y_speed=26855.055973573028)\n",
      "        \n",
      "Planet(name=Mars, x=-182276529137.13593, y=135922801492.80464, radius=12, color=(255, 0, 0), mass=6.39e+23, sun=False, \n",
      "        dis_to_sun=227990400000.0, orbit_list=[(-227971335251.9316, 2084809296.7789679), (-227933204960.40805, 4169444268.739221), (-227876009925.31937, 6253730541.577781), (-227799752542.55234, 8337493726.308527), (-227704436804.57364, 10420559433.84463), (-227590068300.87622, 12502753289.597383), (-227456654218.28888, 14583900948.09045), (-227304203341.14948, 16663828107.58845), (-227132726051.3414, 18742360524.738743), (-226942234328.19406, 20819324029.22526)], x_speed=14445.03673351709, y_speed=19410.680372683313)\n",
      "        \n"
     ]
    }
   ],
   "source": [
    "for planet in planets:\n",
    "    print(planet)"
   ]
  },
  {
   "cell_type": "code",
   "execution_count": 11,
   "metadata": {},
   "outputs": [
    {
     "data": {
      "image/png": "[encoded data removed]",
      "text/plain": [
       "<Figure size 540x252 with 1 Axes>"
      ]
     },
     "metadata": {
      "needs_background": "light"
     },
     "output_type": "display_data"
    }
   ],
   "source": [
    "ax = plt.figure().add_subplot(projection='3d')\n",
    "plt.rcParams[\"figure.figsize\"] = [7.50, 3.50]\n",
    "plt.rcParams[\"figure.autolayout\"] = True\n",
    "ax.set_ylabel(\"X Position\")\n",
    "ax.set_zlabel(\"Y Position\")\n",
    "\n",
    "for planet in planets:\n",
    "    x, y = zip(*planet.orbit)\n",
    "    ax.plot(np.arange(0, len(x), 1), x, y, label=planet.name)\n",
    "leg = plt.legend(loc='upper left')\n",
    "plt.show()"
   ]
  }
 ],
 "metadata": {
  "kernelspec": {
   "display_name": "Python 3.9.12 ('base')",
   "language": "python",
   "name": "python3"
  },
  "language_info": {
   "codemirror_mode": {
    "name": "ipython",
    "version": 3
   },
   "file_extension": ".py",
   "mimetype": "text/x-python",
   "name": "python",
   "nbconvert_exporter": "python",
   "pygments_lexer": "ipython3",
   "version": "3.9.12"
  },
  "orig_nbformat": 4,
  "vscode": {
   "interpreter": {
    "hash": "0968fb2a39367d6a567440c767d450fb15d679bd06d810638ee040ba26f41bab"
   }
  }
 },
 "nbformat": 4,
 "nbformat_minor": 2
}
