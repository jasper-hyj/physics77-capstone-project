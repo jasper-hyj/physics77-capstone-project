{
 "cells": [
  {
   "cell_type": "markdown",
   "metadata": {},
   "source": [
    "# Physics 77 Capstone Project Proposal\n",
    "\n",
    "## Overview\n",
    "- Title of the Research: Simulation of a solar system with animation using pygame and analyse using matplotlib\n",
    "- Group member: Yi-Jhan Huang, Ian Chang\n",
    "\n",
    "## Abstract:\n",
    "Our research project is based on the current physical detail of solar system.\n",
    "\n",
    "## Technical Approach \n",
    "- Language of programming: mainly python\n",
    "- Package requirements: matplotlib, numpy, scipy, pygame, math\n",
    "\n",
    "## References\n",
    "- https://towardsdatascience.com/simulate-a-tiny-solar-system-with-python-fbbb68d8207b \n",
    "- https://thepythoncodingbook.com/2021/12/11/simulating-3d-solar-system-python-matplotlib/ \n",
    "\n",
    "## Division of Responsibilities\n",
    "- Ian Chang: Responsible for simulation part of the project\n",
    "- Yi-Jhan Huang: Responsible for analysis part of the project\n",
    "- Both: Topic Chose and Structure Design\n",
    "\n",
    "\n",
    "\n",
    "# Proposal Context\n",
    "\n",
    "We chose this project generally because recently, as you might’ve known, the James Webb Space telescope sent back marvelous high-resolution images of galaxies, nebulas, black holes, and more. These new images will allow us to have a greater understanding of the history of our universe, recording information about collisions of galaxies and births of stars. Being inspired by this phenomenal event, we’ve decided to use what we’ve learnt in the course and try to simulate a solar system, mainly using the libraries matplotlib and numpy.\n",
    "\n",
    "# Attributes of Sun and Planets\n",
    "\n",
    "|               | Sun       | Mercury   | Venus     | Earth     | Mars      | Jupiter   | Saturn    | Uranus    | Neptune   |\n",
    "| -----------   | --------- | --------- | --------- | --------- | --------- | --------- | --------- | --------- | --------- |\n",
    "| Radius (km)   | 696342    | 2439.7    | 6051.8    | 6371.0    | 3389.5    |           |           |           |           |\n",
    "| Mass (kg)     | 1.9885e30 | 3.3011e23 | 4.8675e24 | 1.08321e12| 6.4171e23 |           |           |           |           |\n",
    "| Volumn (km^3) | 1.41e18   | 6.083e10  | 9.2843e11 | 5.97237e24| 1.63118e11|           |           |           |           |\n",
    "\t"
   ]
  },
  {
   "cell_type": "markdown",
   "metadata": {},
   "source": [
    "### Importing Necessary Package for following codes"
   ]
  },
  {
   "cell_type": "code",
   "execution_count": 1,
   "metadata": {},
   "outputs": [
    {
     "name": "stdout",
     "output_type": "stream",
     "text": [
      "pygame 2.1.2 (SDL 2.0.18, Python 3.9.12)\n",
      "Hello from the pygame community. https://www.pygame.org/contribute.html\n"
     ]
    }
   ],
   "source": [
    "import numpy as np\n",
    "import scipy as sp \n",
    "from scipy import stats\n",
    "import matplotlib.pyplot as plt\n",
    "%matplotlib inline\n",
    "import pygame\n",
    "import math"
   ]
  },
  {
   "cell_type": "markdown",
   "metadata": {},
   "source": [
    "### Initializing the pygame for visual simulation graph"
   ]
  },
  {
   "cell_type": "code",
   "execution_count": 2,
   "metadata": {},
   "outputs": [],
   "source": [
    "pygame.init()\n",
    "WIDTH, HEIGHT = 800, 800\n",
    "\n",
    "# set pop up screen size\n",
    "SCREEN = pygame.display.set_mode((WIDTH, HEIGHT)) \n",
    "\n",
    "# set title of window\n",
    "pygame.display.set_caption(\"Solar System\")"
   ]
  },
  {
   "cell_type": "markdown",
   "metadata": {},
   "source": [
    "### Set up color constants and font object for graph displaying"
   ]
  },
  {
   "cell_type": "code",
   "execution_count": 3,
   "metadata": {},
   "outputs": [],
   "source": [
    "WHITE = (255, 255, 255) # color white\n",
    "YELLOW = (255, 255, 0) # color yellow\n",
    "BLUE = (0, 0, 255) # color blue\n",
    "RED = (255, 0, 0) # color red\n",
    "GREY = (100, 100, 100) # color grey\n",
    "\n",
    "FONT = pygame.font.SysFont(\"garamond\", 16)"
   ]
  },
  {
   "cell_type": "markdown",
   "metadata": {},
   "source": [
    "## Class Planet\n",
    "> Functions\n",
    "> - Constructor\n",
    ">> Define some default parameters\n",
    "> - Draw\n",
    "> - "
   ]
  },
  {
   "cell_type": "code",
   "execution_count": 4,
   "metadata": {},
   "outputs": [],
   "source": [
    "class Planet:\n",
    "    AU = 149.6e6 * 1000             # distance from earth to sun\n",
    "    G = 6.67428e-11                 # gravitational constant\n",
    "    SCALE = 200 / AU                # small value to scale down the solar system to fit it on the screen\n",
    "    TIMESTEP = 60 * 60 * 24         # 1 day\n",
    "\n",
    "\n",
    "    # Constructor\n",
    "    def __init__(self, x, y, radius, color, mass, sun=False):\n",
    "        self.x = x                              # x position\n",
    "        self.y = y                              # y position\n",
    "        self.radius = radius                    # radius\n",
    "        self.color = color                      # color\n",
    "        self.mass = mass                        # mass\n",
    "        self.sun = sun                          # if it's the sun\n",
    "        self.dis_to_sun = math.hypot(x, y)      # distance from planet to sun\n",
    "        \n",
    "        self.orbit = []\n",
    "        self.x_speed = 0 # x speed\n",
    "        self.y_speed = 0 if (self.sun) else math.sqrt((Planet.G * 1.98892 * 10 ** 30) / self.dis_to_sun)     # y speed\n",
    "\n",
    "\n",
    "    # Draw line function for the updated_points\n",
    "    def move(self):\n",
    "        # divide by two because pygame (0, 0) is the top left corner\n",
    "        x = self.x * self.SCALE + WIDTH / 2     # x position on screen\n",
    "        y = self.y * self.SCALE + HEIGHT / 2    # y position on screen\n",
    "        updated_points = []\n",
    "        updated_points = []\n",
    "        for point in self.orbit:\n",
    "            x, y = point\n",
    "            x = x * self.SCALE + WIDTH / 2\n",
    "            y = y * self.SCALE + HEIGHT / 2\n",
    "            updated_points.append((x, y))\n",
    "        return updated_points, (x, y)\n",
    "\n",
    "\n",
    "    def attraction(self, other):\n",
    "\n",
    "        distance_x = other.x - self.x # distance between x positions\n",
    "        distance_y = other.y - self.y # distance between y positions\n",
    "\n",
    "        distance = math.hypot(distance_x, distance_y) # distance between planets\n",
    "\n",
    "        force = self.G * self.mass * other.mass / distance ** 2 # force between the planets\n",
    "\n",
    "        theta = math.atan2(distance_y, distance_x) # angle between the planets x and y positions\n",
    "\n",
    "        force_x = math.cos(theta) * force # force in the x direction\n",
    "        force_y = math.sin(theta) * force # force in the y direction\n",
    "        \n",
    "        return force_x, force_y\n",
    "\n",
    "\n",
    "    def update_pos(self, planets):\n",
    "        total_fx = total_fy = 0 # initialize x and y force to zero\n",
    "\n",
    "        for planet in planets:\n",
    "            if self == planet: # if the planet is itself\n",
    "                continue\n",
    "            fx, fy = self.attraction(planet)\n",
    "            total_fx += fx\n",
    "            total_fy += fy\n",
    "        \n",
    "        self.x_speed += total_fx / self.mass * self.TIMESTEP\n",
    "        self.y_speed += total_fy / self.mass * self.TIMESTEP\n",
    "\n",
    "        self.x += self.x_speed * self.TIMESTEP\n",
    "        self.y += self.y_speed * self.TIMESTEP\n",
    "\n",
    "        self.orbit.append((self.x, self.y))\n",
    "\n"
   ]
  },
  {
   "cell_type": "code",
   "execution_count": 7,
   "metadata": {},
   "outputs": [],
   "source": [
    "def main():\n",
    "    run = True\n",
    "    clock = pygame.time.Clock()\n",
    "\n",
    "    sun = Planet(0, 0, 30, YELLOW, 1.98892 * 10 ** 30, True)\n",
    "\n",
    "    mercury = Planet(-0.387 * Planet.AU, 0,  8, GREY, 0.330 * 10 ** 24)\n",
    "\n",
    "    venus = Planet(-0.723 * Planet.AU, 0,  14, WHITE, 4.8685 * 10 ** 24)\n",
    "\n",
    "    earth = Planet(-1 * Planet.AU, 0, 16, BLUE, 5.972 * 10 ** 24)\n",
    "\n",
    "    mars = Planet(-1.524 * Planet.AU, 0, 12, RED, 6.39 * 10 ** 23)\n",
    "\n",
    "    planets = [sun, mercury, venus, earth, mars]\n",
    "\n",
    "    while run:\n",
    "        clock.tick(60)\n",
    "        SCREEN.fill((0, 0, 0)) # fill the screen black every frame, or else the old frames will still be on the screen\n",
    "\n",
    "        # Quit loop when recieve quit signal\n",
    "        for event in pygame.event.get():\n",
    "            if event.type == pygame.QUIT:\n",
    "                run = False\n",
    "\n",
    "        for planet in planets:\n",
    "            planet.update_pos(planets) # update the position of the planets using the forces of attraction\n",
    "            updated_points, (x, y) = planet.move() # draw the planets\n",
    "\n",
    "            if len(updated_points) >= 2:\n",
    "                pygame.draw.lines(SCREEN, planet.color, False, updated_points)\n",
    "\n",
    "            if not planet.sun:\n",
    "                distance_text = FONT.render(f\"{planet.dis_to_sun / 1000:.2f} km\", True, planet.color)\n",
    "                SCREEN.blit(distance_text, (x - distance_text.get_width() / 2, y - distance_text.get_height() / 2 - 20))\n",
    "\n",
    "            pygame.draw.circle(SCREEN, planet.color, (x, y), planet.radius) # draw the planet\n",
    "\n",
    "        pygame.display.update() # update the display\n",
    "\n",
    "    pygame.quit()\n",
    "\n",
    "\n",
    "\n",
    "if __name__ == '__main__':\n",
    "    main()"
   ]
  }
 ],
 "metadata": {
  "kernelspec": {
   "display_name": "Python 3.9.12 ('base')",
   "language": "python",
   "name": "python3"
  },
  "language_info": {
   "codemirror_mode": {
    "name": "ipython",
    "version": 3
   },
   "file_extension": ".py",
   "mimetype": "text/x-python",
   "name": "python",
   "nbconvert_exporter": "python",
   "pygments_lexer": "ipython3",
   "version": "3.9.12"
  },
  "orig_nbformat": 4,
  "vscode": {
   "interpreter": {
    "hash": "0968fb2a39367d6a567440c767d450fb15d679bd06d810638ee040ba26f41bab"
   }
  }
 },
 "nbformat": 4,
 "nbformat_minor": 2
}
