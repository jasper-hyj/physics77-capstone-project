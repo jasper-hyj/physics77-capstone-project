{
 "cells": [
  {
   "cell_type": "markdown",
   "metadata": {},
   "source": [
    "# Physics 77 Capstone Project\n",
    "\n",
    "## Overview\n",
    "- Title of the Research: Simulation of a solar system with animation using pygame and analyse using matplotlib\n",
    "- Group member: Yi-Jhan Huang, Ian Chang\n",
    "\n",
    "## Abstract:\n",
    "Our research project is based on the current physical detail of solar system.\n",
    "\n",
    "## Technical Approach \n",
    "- Language of programming: mainly python\n",
    "- Package requirements: matplotlib, numpy, scipy, pygame, math\n",
    "\n",
    "## References\n",
    "- https://towardsdatascience.com/simulate-a-tiny-solar-system-with-python-fbbb68d8207b \n",
    "- https://thepythoncodingbook.com/2021/12/11/simulating-3d-solar-system-python-matplotlib/ \n",
    "\n",
    "## Division of Responsibilities\n",
    "- Ian Chang: Responsible for simulation part of the project\n",
    "- Yi-Jhan Huang: Responsible for analysis part of the project\n",
    "- Both: Topic Chose and Structure Design\n",
    "\n",
    "\n",
    "# Project Proposal\n",
    "\n",
    "We chose this project generally because recently, as you might’ve known, the James Webb Space telescope sent back marvelous high-resolution images of galaxies, nebulas, black holes, and more. These new images will allow us to have a greater understanding of the history of our universe, recording information about collisions of galaxies and births of stars. Being inspired by this phenomenal event, we’ve decided to use what we’ve learnt in the course and try to simulate a solar system, mainly using the libraries matplotlib and numpy.\n",
    "\n",
    "# Attributes of Sun and Planets\n",
    "\n",
    "|               | Sun       | Mercury   | Venus     | Earth     | Mars      | Jupiter   | Saturn    | Uranus    | Neptune   |\n",
    "| -----------   | --------- | --------- | --------- | --------- | --------- | --------- | --------- | --------- | --------- |\n",
    "| Radius (km)   | 696342    | 2439.7    | 6051.8    | 6371.0    | 3389.5    |           |           |           |           |\n",
    "| Mass (kg)     | 1.9885e30 | 3.3011e23 | 4.8675e24 | 1.08321e12| 6.4171e23 |           |           |           |           |\n",
    "| Volumn (km^3) | 1.41e18   | 6.083e10  | 9.2843e11 | 5.97237e24| 1.63118e11|           |           |           |           |\n",
    "\t"
   ]
  },
  {
   "cell_type": "markdown",
   "metadata": {},
   "source": [
    "### Importing Necessary Package for following codes"
   ]
  },
  {
   "cell_type": "code",
   "execution_count": 1,
   "metadata": {},
   "outputs": [
    {
     "name": "stdout",
     "output_type": "stream",
     "text": [
      "pygame 2.1.2 (SDL 2.0.18, Python 3.9.12)\n",
      "Hello from the pygame community. https://www.pygame.org/contribute.html\n"
     ]
    }
   ],
   "source": [
    "import numpy as np\n",
    "import scipy as sp \n",
    "from scipy import stats\n",
    "import matplotlib.pyplot as plt\n",
    "%matplotlib inline\n",
    "import pygame\n",
    "import math"
   ]
  },
  {
   "cell_type": "markdown",
   "metadata": {},
   "source": [
    "## Class Planet"
   ]
  },
  {
   "cell_type": "code",
   "execution_count": 2,
   "metadata": {},
   "outputs": [],
   "source": [
    "class Planet:\n",
    "    AU = 149.6e6 * 1000             # distance from earth to sun\n",
    "    G = 6.67428e-11                 # gravitational constant\n",
    "    SCALE = 200 / AU                # small value to scale down the solar system to fit it on the screen\n",
    "    TIMESTEP = 60 * 60 * 24         # 1 day\n",
    "\n",
    "\n",
    "    # Constructor\n",
    "    def __init__(self, name, dis_to_sun, radius, color, mass):\n",
    "        self.name = name\n",
    "        self.x = -dis_to_sun * self.AU           # x position\n",
    "        self.y = 0                              # y position\n",
    "        self.radius = radius                    # radius\n",
    "        self.color = color                      # color\n",
    "        self.mass = mass                        # mass\n",
    "        self.sun = (dis_to_sun == 0)           # if it's the sun\n",
    "        self.dis_to_sun = dis_to_sun * self.AU  # distance from planet to sun\n",
    "        \n",
    "        self.orbit = []\n",
    "        self.x_speed = 0 # x speed\n",
    "        self.y_speed = 0 if (self.sun) else math.sqrt((Planet.G * 1.98892 * 10 ** 30) / self.dis_to_sun)     # y speed\n",
    "\n",
    "\n",
    "    # Draw line function for the updated_points\n",
    "    def move(self):\n",
    "        # divide by two because pygame (0, 0) is the top left corner\n",
    "        x = self.x * self.SCALE + WIDTH / 2     # x position on screen\n",
    "        y = self.y * self.SCALE + HEIGHT / 2    # y position on screen\n",
    "        updated_points = []\n",
    "        for point in self.orbit:\n",
    "            x, y = point\n",
    "            x = x * self.SCALE + WIDTH / 2\n",
    "            y = y * self.SCALE + HEIGHT / 2\n",
    "            updated_points.append((x, y))\n",
    "        return updated_points, (x, y)\n",
    "\n",
    "\n",
    "    def attraction(self, other):\n",
    "        distance_x = other.x - self.x # distance between x positions\n",
    "        distance_y = other.y - self.y # distance between y positions\n",
    "\n",
    "        distance = math.hypot(distance_x, distance_y) # distance between planets\n",
    "\n",
    "        force = self.G * self.mass * other.mass / distance ** 2 # force between the planets\n",
    "\n",
    "        theta = math.atan2(distance_y, distance_x) # angle between the planets x and y positions\n",
    "\n",
    "        force_x = math.cos(theta) * force # force in the x direction\n",
    "        force_y = math.sin(theta) * force # force in the y direction\n",
    "        \n",
    "        return force_x, force_y\n",
    "\n",
    "\n",
    "    def update_pos(self, planets):\n",
    "        total_fx = total_fy = 0 # initialize x and y force to zero\n",
    "\n",
    "        for planet in planets:\n",
    "            if self == planet: # if the planet is itself\n",
    "                continue\n",
    "            fx, fy = self.attraction(planet)\n",
    "            total_fx += fx\n",
    "            total_fy += fy\n",
    "        \n",
    "        self.x_speed += total_fx / self.mass * self.TIMESTEP\n",
    "        self.y_speed += total_fy / self.mass * self.TIMESTEP\n",
    "\n",
    "        self.x += self.x_speed * self.TIMESTEP\n",
    "        self.y += self.y_speed * self.TIMESTEP\n",
    "\n",
    "        self.orbit.append((self.x, self.y))\n",
    "\n",
    "\n",
    "    def __str__(self):\n",
    "        return f\"\"\"Planet(name={self.name}, radius={self.radius}, color={self.color}, mass={self.mass}, dis_to_sun={self.dis_to_sun}, \n",
    "        x={self.x}, y={self.y}, sun={self.sun}, orbit_list={self.orbit[0:5]}, x_speed={self.x_speed}, y_speed={self.y_speed})\n",
    "        \"\"\"\n",
    "        "
   ]
  },
  {
   "cell_type": "markdown",
   "metadata": {},
   "source": [
    "### Set up constants (Color, window...etc)"
   ]
  },
  {
   "cell_type": "code",
   "execution_count": 10,
   "metadata": {},
   "outputs": [],
   "source": [
    "WHITE = (255, 255, 255) # color white\n",
    "YELLOW = (255, 255, 0) # color yellow\n",
    "BLUE = (0, 0, 255) # color blue\n",
    "RED = (255, 0, 0) # color red\n",
    "GREY = (100, 100, 100) # color grey\n",
    "\n",
    "WIDTH, HEIGHT = 800, 800"
   ]
  },
  {
   "cell_type": "markdown",
   "metadata": {},
   "source": [
    "### Running pygame for visual simulation of solar system"
   ]
  },
  {
   "cell_type": "code",
   "execution_count": 8,
   "metadata": {},
   "outputs": [],
   "source": [
    "def simulation(planets):\n",
    "    pygame.init()\n",
    "\n",
    "    # set pop up screen size\n",
    "    SCREEN = pygame.display.set_mode((WIDTH, HEIGHT)) \n",
    "\n",
    "    FONT = pygame.font.SysFont(\"garamond\", 16)\n",
    "\n",
    "    # set title of window\n",
    "    pygame.display.set_caption(\"Solar System\")\n",
    "\n",
    "    run = True\n",
    "    clock = pygame.time.Clock()\n",
    "\n",
    "    while run:\n",
    "        SCREEN.fill((0, 0, 0)) # fill the screen black every frame, or else the old frames will still be on the screen\n",
    "\n",
    "        # Quit loop when recieve quit signal\n",
    "        for event in pygame.event.get():\n",
    "            if event.type == pygame.QUIT:\n",
    "                run = False\n",
    "\n",
    "        for planet in planets:\n",
    "            planet.update_pos(planets) # update the position of the planets using the forces of attraction\n",
    "            updated_points, (x, y) = planet.move() # draw the planets\n",
    "\n",
    "            if len(updated_points) >= 2: pygame.draw.lines(SCREEN, planet.color, False, updated_points)\n",
    "\n",
    "            if not planet.sun:\n",
    "                distance_text = FONT.render(f\"{planet.name}\", True, WHITE)\n",
    "                SCREEN.blit(distance_text, (x - distance_text.get_width() / 2, y - distance_text.get_height() / 2 - 20))\n",
    "\n",
    "            pygame.draw.circle(SCREEN, planet.color, (x, y), planet.radius) # draw the planet\n",
    "\n",
    "        pygame.display.update() # update the display\n",
    "        clock.tick(60) # Set up update delay\n",
    "\n",
    "    pygame.quit()"
   ]
  },
  {
   "cell_type": "code",
   "execution_count": 11,
   "metadata": {},
   "outputs": [],
   "source": [
    "planets = [\n",
    "        Planet('Sun', 0, 30, YELLOW, 1.98892 * 10 ** 30),\n",
    "        Planet('Mercury', 0.387, 8, GREY, 0.330 * 10 ** 24),\n",
    "        Planet('Venus', 0.723, 14, WHITE, 4.8685 * 10 ** 24),\n",
    "        Planet('Earth', 1, 16, BLUE, 5.972 * 10 ** 24),\n",
    "        Planet('Mars', 1.524, 12, RED, 6.39 * 10 ** 23)\n",
    "]\n",
    "\n",
    "simulation(planets)"
   ]
  },
  {
   "cell_type": "code",
   "execution_count": 18,
   "metadata": {},
   "outputs": [],
   "source": [
    "planets = [\n",
    "        Planet('Sun', 0, 30, YELLOW, 1.98892 * 10 ** 30),\n",
    "        Planet('Mercury', 0.387, 8, GREY, 0.330 * 10 ** 24),\n",
    "        Planet('Venus', 0.723, 14, WHITE, 4.8685 * 10 ** 24),\n",
    "        Planet('Earth', 1, 16, BLUE, 5.972 * 10 ** 24),\n",
    "        Planet('Mars', 1.524, 12, RED, 6.39 * 10 ** 23)\n",
    "]\n",
    "\n",
    "simulation(planets)"
   ]
  },
  {
   "cell_type": "code",
   "execution_count": 5,
   "metadata": {},
   "outputs": [
    {
     "name": "stdout",
     "output_type": "stream",
     "text": [
      "Planet(name=Sun, radius=30, color=(255, 255, 0), mass=1.9889200000000002e+30, dis_to_sun=0.0, \n",
      "        x=-794496.9566301138, y=5460840.338189207, sun=True, orbit_list=[(-395.46942426354053, 4.843103645849915e-14), (-1186.6330239537288, 11.685654084580875), (-2373.254576824716, 46.78863795968859), (-3954.6290135274585, 117.0620652977588), (-5929.576161441081, 234.25461154743076)], x_speed=0.027639181027945516, y_speed=0.2183139490613417)\n",
      "        \n",
      "Planet(name=Mercury, radius=8, color=(100, 100, 100), mass=3.3e+23, dis_to_sun=57895200000.0, \n",
      "        x=39866944813.63372, y=-44350220941.40204, sun=False, orbit_list=[(-57599560700.35345, 4137169666.4649696), (-57007536003.545845, 8253050912.057345), (-56119934364.51558, 12326140880.266018), (-54939161637.028015, 16334838612.165207), (-53469255026.00523, 20257568872.949585)], x_speed=-32784.851169305235, y_speed=-33060.20954262806)\n",
      "        \n",
      "Planet(name=Venus, radius=14, color=(255, 255, 255), mass=4.8685e+24, dis_to_sun=108160800000.0, \n",
      "        x=96880856699.34303, y=46703086363.78408, sun=False, orbit_list=[(-108076096613.81282, 3026841406.6457696), (-107906656731.28897, 6051309574.138175), (-107652513876.02037, 9071027549.041632), (-107313768491.50269, 12083616547.297806), (-106890588174.23994, 15086697851.711542)], x_speed=16144.12692406915, y_speed=-31329.343886641982)\n",
      "        \n",
      "Planet(name=Earth, radius=16, color=(0, 0, 255), mass=5.972e+24, dis_to_sun=149600000000.0, \n",
      "        x=-105806407279.38818, y=-107057946891.64212, sun=False, orbit_list=[(-149555720836.4682, 2573705387.3283033), (-149467155971.98764, 5146648801.383675), (-149334311998.49002, 7718067714.478085), (-149157208658.4194, 10287199373.32672), (-148935878861.96133, 12853281026.159988)], x_speed=-21107.280280863226, y_speed=20759.827522734802)\n",
      "        \n",
      "Planet(name=Mars, radius=12, color=(255, 0, 0), mass=6.39e+23, dis_to_sun=227990400000.0, \n",
      "        x=222936943493.37338, y=46714651015.54157, sun=False, orbit_list=[(-227971335251.9316, 2084809296.7789679), (-227933204960.40805, 4169444268.739221), (-227876009925.31937, 6253730541.577781), (-227799752542.55234, 8337493726.308527), (-227704436804.57364, 10420559433.84463)], x_speed=5166.808072863955, y_speed=-23593.690160782415)\n",
      "        \n"
     ]
    }
   ],
   "source": [
    "for planet in planets:\n",
    "    print(planet)"
   ]
  },
  {
   "cell_type": "code",
   "execution_count": null,
   "metadata": {},
   "outputs": [],
   "source": [
    "ax = plt.figure().add_subplot(projection='3d')\n",
    "plt.rcParams[\"figure.figsize\"] = [7.50, 3.50]\n",
    "plt.rcParams[\"figure.autolayout\"] = True\n",
    "ax.set_ylabel(\"X Position\")\n",
    "ax.set_zlabel(\"Y Position\")\n",
    "\n",
    "for planet in planets:\n",
    "    x, y = zip(*planet.orbit)\n",
    "    ax.plot(np.arange(0, len(x), 1), x, y, label=planet.name)\n",
    "leg = plt.legend(loc='upper left')\n",
    "plt.show()"
   ]
  },
  {
   "cell_type": "code",
   "execution_count": null,
   "metadata": {},
   "outputs": [],
   "source": [
    "for planet in planets:\n",
    "    x, y = zip(*planet.orbit)\n",
    "    dis = []\n",
    "    for i in range(len(x)):\n",
    "        dis.append(math.hypot(x[i], y[i]))\n",
    "    plt.plot(np.arange(0, len(x), 1), dis, label=planet.name)\n",
    "plt.ylabel(\"Distance to origin of the plot\")\n",
    "leg = plt.legend(loc='upper left')\n",
    "plt.show()"
   ]
  },
  {
   "cell_type": "code",
   "execution_count": null,
   "metadata": {},
   "outputs": [],
   "source": [
    "for planet in planets:\n",
    "    x, y = zip(*planet.orbit)\n",
    "    dis = []\n",
    "    for i in range(len(x)):\n",
    "        dis.append(math.hypot(x[i], y[i]))\n",
    "    plt.title(planet.name)\n",
    "    plt.ylabel(\"Distance to origin of the plot\")\n",
    "    plt.plot(np.arange(0, len(x), 1), dis)\n",
    "    plt.show()"
   ]
  }
 ],
 "metadata": {
  "kernelspec": {
   "display_name": "Python 3.9.12 ('base')",
   "language": "python",
   "name": "python3"
  },
  "language_info": {
   "codemirror_mode": {
    "name": "ipython",
    "version": 3
   },
   "file_extension": ".py",
   "mimetype": "text/x-python",
   "name": "python",
   "nbconvert_exporter": "python",
   "pygments_lexer": "ipython3",
   "version": "3.9.12"
  },
  "orig_nbformat": 4,
  "vscode": {
   "interpreter": {
    "hash": "0968fb2a39367d6a567440c767d450fb15d679bd06d810638ee040ba26f41bab"
   }
  }
 },
 "nbformat": 4,
 "nbformat_minor": 2
}
